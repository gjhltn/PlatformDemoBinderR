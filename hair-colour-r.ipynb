{
 "cells": [
  {
   "cell_type": "code",
   "execution_count": 1,
   "id": "c988a341",
   "metadata": {},
   "outputs": [
    {
     "data": {
      "text/html": [
       "<table class=\"dataframe\">\n",
       "<caption>A data.frame: 5 × 4</caption>\n",
       "<thead>\n",
       "\t<tr><th scope=col>hair_colour</th><th scope=col>value</th><th scope=col>age</th><th scope=col>measure_type</th></tr>\n",
       "\t<tr><th scope=col>&lt;chr&gt;</th><th scope=col>&lt;dbl&gt;</th><th scope=col>&lt;chr&gt;</th><th scope=col>&lt;chr&gt;</th></tr>\n",
       "</thead>\n",
       "<tbody>\n",
       "\t<tr><td>brunette</td><td>574</td><td>0-16 </td><td>count</td></tr>\n",
       "\t<tr><td>brunette</td><td>100</td><td>16-24</td><td>count</td></tr>\n",
       "\t<tr><td>black   </td><td> 95</td><td>0-16 </td><td>count</td></tr>\n",
       "\t<tr><td>black   </td><td>544</td><td>16-24</td><td>count</td></tr>\n",
       "\t<tr><td>other   </td><td> 28</td><td>24-50</td><td>count</td></tr>\n",
       "</tbody>\n",
       "</table>\n"
      ],
      "text/latex": [
       "A data.frame: 5 × 4\n",
       "\\begin{tabular}{llll}\n",
       " hair\\_colour & value & age & measure\\_type\\\\\n",
       " <chr> & <dbl> & <chr> & <chr>\\\\\n",
       "\\hline\n",
       "\t brunette & 574 & 0-16  & count\\\\\n",
       "\t brunette & 100 & 16-24 & count\\\\\n",
       "\t black    &  95 & 0-16  & count\\\\\n",
       "\t black    & 544 & 16-24 & count\\\\\n",
       "\t other    &  28 & 24-50 & count\\\\\n",
       "\\end{tabular}\n"
      ],
      "text/markdown": [
       "\n",
       "A data.frame: 5 × 4\n",
       "\n",
       "| hair_colour &lt;chr&gt; | value &lt;dbl&gt; | age &lt;chr&gt; | measure_type &lt;chr&gt; |\n",
       "|---|---|---|---|\n",
       "| brunette | 574 | 0-16  | count |\n",
       "| brunette | 100 | 16-24 | count |\n",
       "| black    |  95 | 0-16  | count |\n",
       "| black    | 544 | 16-24 | count |\n",
       "| other    |  28 | 24-50 | count |\n",
       "\n"
      ],
      "text/plain": [
       "  hair_colour value age   measure_type\n",
       "1 brunette    574   0-16  count       \n",
       "2 brunette    100   16-24 count       \n",
       "3 black        95   0-16  count       \n",
       "4 black       544   16-24 count       \n",
       "5 other        28   24-50 count       "
      ]
     },
     "metadata": {},
     "output_type": "display_data"
    }
   ],
   "source": [
    "library(csvwr)\n",
    "\n",
    "rootUrl <- \"https://raw.githubusercontent.com/gjhltn/PlatformDemoBinder/main/data/\"\n",
    "ds <- \"hair-colour\"\n",
    "\n",
    "csvFile <- paste(ds, \".csv\", sep = \"\")\n",
    "jsonFile <- paste(ds, \".json\", sep = \"\")\n",
    "\n",
    "csvUrl <- paste(rootUrl, csvFile, sep = \"\")\n",
    "download.file(csvUrl,csvFile)\n",
    "\n",
    "jsonUrl <- paste(rootUrl, jsonFile, sep = \"\")\n",
    "download.file(jsonUrl,jsonFile)\n",
    "\n",
    "df <- read_csvw_dataframe(csvFile, jsonFile)\n",
    "df"
   ]
  }
 ],
 "metadata": {
  "kernelspec": {
   "display_name": "R",
   "language": "R",
   "name": "ir"
  },
  "language_info": {
   "codemirror_mode": "r",
   "file_extension": ".r",
   "mimetype": "text/x-r-source",
   "name": "R",
   "pygments_lexer": "r",
   "version": "4.3.2"
  }
 },
 "nbformat": 4,
 "nbformat_minor": 5
}
